{
 "cells": [
  {
   "cell_type": "markdown",
   "metadata": {},
   "source": [
    "# WeatherPy\n",
    "----\n",
    "\n",
    "#### Note\n",
    "* Instructions have been included for each segment. You do not have to follow them exactly, but they are included to help you think through the steps."
   ]
  },
  {
   "cell_type": "code",
   "execution_count": 2,
   "metadata": {
    "scrolled": true
   },
   "outputs": [],
   "source": [
    "# Dependencies and Setup\n",
    "import matplotlib.pyplot as plt\n",
    "import pandas as pd\n",
    "import numpy as np\n",
    "import requests\n",
    "import time\n",
    "from scipy.stats import linregress\n",
    "from pprint import pprint\n",
    "\n",
    "# Import API key\n",
    "from api_keys import weather_api_key\n",
    "\n",
    "# Incorporated citipy to determine city based on latitude and longitude\n",
    "from citipy import citipy\n",
    "\n",
    "# Output File (CSV)\n",
    "output_data_file = \"output_data/cities.csv\"\n",
    "\n",
    "# Range of latitudes and longitudes\n",
    "lat_range = (-90, 90)\n",
    "lng_range = (-180, 180)"
   ]
  },
  {
   "cell_type": "markdown",
   "metadata": {},
   "source": [
    "## Generate Cities List"
   ]
  },
  {
   "cell_type": "code",
   "execution_count": 3,
   "metadata": {},
   "outputs": [
    {
     "data": {
      "text/plain": [
       "643"
      ]
     },
     "execution_count": 3,
     "metadata": {},
     "output_type": "execute_result"
    }
   ],
   "source": [
    "# List for holding lat_lngs and cities\n",
    "lat_lngs = []\n",
    "cities = []\n",
    "\n",
    "# Create a set of random lat and lng combinations\n",
    "lats = np.random.uniform(lat_range[0], lat_range[1], size=1500)\n",
    "lngs = np.random.uniform(lng_range[0], lng_range[1], size=1500)\n",
    "lat_lngs = zip(lats, lngs)\n",
    "\n",
    "# Identify nearest city for each lat, lng combination\n",
    "for lat_lng in lat_lngs:\n",
    "    city = citipy.nearest_city(lat_lng[0], lat_lng[1]).city_name\n",
    "    \n",
    "    # If the city is unique, then add it to a our cities list\n",
    "    if city not in cities:\n",
    "        cities.append(city)\n",
    "\n",
    "# Print the city count to confirm sufficient count\n",
    "len(cities)"
   ]
  },
  {
   "cell_type": "markdown",
   "metadata": {},
   "source": [
    "### Perform API Calls\n",
    "* Perform a weather check on each city using a series of successive API calls.\n",
    "* Include a print log of each city as it'sbeing processed (with the city number and city name).\n",
    "\n",
    "> **HINT:** The OpenWeatherMap API only allows 60 calls per minute under their free plan. Try using `time.sleep(60)` after each set of 50 cities to avoid API errors due to large calls."
   ]
  },
  {
   "cell_type": "code",
   "execution_count": 4,
   "metadata": {},
   "outputs": [
    {
     "name": "stdout",
     "output_type": "stream",
     "text": [
      "{'base': 'stations',\n",
      " 'clouds': {'all': 30},\n",
      " 'cod': 200,\n",
      " 'coord': {'lat': -23.1203, 'lon': -134.9692},\n",
      " 'dt': 1645381136,\n",
      " 'id': 4030556,\n",
      " 'main': {'feels_like': 77.77,\n",
      "          'grnd_level': 1013,\n",
      "          'humidity': 78,\n",
      "          'pressure': 1016,\n",
      "          'sea_level': 1016,\n",
      "          'temp': 76.73,\n",
      "          'temp_max': 76.73,\n",
      "          'temp_min': 76.73},\n",
      " 'name': 'Rikitea',\n",
      " 'rain': {'1h': 0.41},\n",
      " 'sys': {'country': 'PF', 'sunrise': 1645368682, 'sunset': 1645414568},\n",
      " 'timezone': -32400,\n",
      " 'visibility': 10000,\n",
      " 'weather': [{'description': 'light rain',\n",
      "              'icon': '10d',\n",
      "              'id': 500,\n",
      "              'main': 'Rain'}],\n",
      " 'wind': {'deg': 154, 'gust': 11.05, 'speed': 10.29}}\n"
     ]
    }
   ],
   "source": [
    "test_url = f'http://api.openweathermap.org/data/2.5/weather?q={cities[0]}&appid={weather_api_key}&units=imperial'\n",
    "\n",
    "response = requests.get(test_url).json()\n",
    "pprint(response)\n",
    "#pprint(response)\n",
    "#response['name'] <-city name\n",
    "#response['coord']['lat'] <-latitude\n",
    "#response['coord']['lon'] <-longitude\n",
    "#response['main']['temp_max'] <-max temp\n",
    "#response['main']['humidity'] <-humidity\n",
    "#response['clouds']['all'] <-cloudiness\n",
    "#response['wind']['speed'] <-wind speed\n",
    "#response['sys']['country'] <-country\n",
    "#response['dt']<-date"
   ]
  },
  {
   "cell_type": "code",
   "execution_count": 5,
   "metadata": {
    "scrolled": true
   },
   "outputs": [
    {
     "name": "stdout",
     "output_type": "stream",
     "text": [
      "City #1: rikitea\n",
      "City #2: chuy\n",
      "City #3: hermanus\n",
      "City #4: saldanha\n",
      "City #5: traiguen\n",
      "City #6: port alfred\n",
      "City #7: awbari\n",
      "City #8: roma\n",
      "City #9: taolanaro\n",
      "City #10: meulaboh\n",
      "City #11: quimper\n",
      "City #12: finnsnes\n",
      "City #13: katsuura\n",
      "City #14: atuona\n",
      "City #15: ifo\n",
      "City #16: mataura\n",
      "City #17: tezu\n",
      "City #18: lumeje\n",
      "City #19: tubuala\n",
      "City #20: busselton\n",
      "City #21: bloomingdale\n",
      "City #22: smithers\n",
      "City #23: verkhnyaya inta\n",
      "City #24: atasu\n",
      "City #25: arco\n",
      "City #26: ushuaia\n",
      "City #27: halalo\n",
      "City #28: punta arenas\n",
      "City #29: albany\n",
      "City #30: cape town\n",
      "City #31: vila velha\n",
      "City #32: tuktoyaktuk\n",
      "City #33: khatanga\n",
      "City #34: belushya guba\n",
      "City #35: lebu\n",
      "City #36: tiznit\n",
      "City #37: lagoa\n",
      "City #38: avarua\n",
      "City #39: thompson\n",
      "City #40: bredasdorp\n",
      "City #41: hervey bay\n",
      "City #42: barrow\n",
      "City #43: saint-jean-de-la-ruelle\n",
      "City #44: marcona\n",
      "City #45: ponta do sol\n",
      "City #46: thibodaux\n",
      "City #47: tasiilaq\n",
      "City #48: santa quiteria\n",
      "City #49: bluff\n",
      "City #50: raymond\n",
      "City #51: bengkulu\n",
      "City #52: manono\n",
      "City #53: vaitupu\n",
      "City #54: vaini\n",
      "City #55: haines junction\n",
      "City #56: laramie\n",
      "City #57: xichang\n",
      "City #58: dongsheng\n",
      "City #59: xining\n",
      "City #60: kegalla\n",
      "City #61: raudeberg\n",
      "City #62: luanda\n",
      "City #63: puerto ayora\n",
      "City #64: kruisfontein\n",
      "City #65: rostaq\n",
      "City #66: bolungarvik\n",
      "City #67: jamestown\n",
      "City #68: benfleet\n",
      "City #69: mys shmidta\n",
      "City #70: grand gaube\n",
      "City #71: carauari\n",
      "City #72: hobart\n",
      "City #73: lompoc\n",
      "City #74: yellowknife\n",
      "City #75: bergerac\n",
      "City #76: tekeli\n",
      "City #77: georgetown\n",
      "City #78: sisimiut\n",
      "City #79: gat\n",
      "City #80: huilong\n",
      "City #81: malartic\n",
      "City #82: provideniya\n",
      "City #83: east london\n",
      "City #84: whitianga\n",
      "City #85: crixas\n",
      "City #86: ust-maya\n",
      "City #87: juneau\n",
      "City #88: tatawin\n",
      "City #89: kavaratti\n",
      "City #90: dubbo\n",
      "City #91: rio grande\n",
      "City #92: guerrero negro\n",
      "City #93: port elizabeth\n",
      "City #94: souillac\n",
      "City #95: oranjemund\n",
      "City #96: kawalu\n",
      "City #97: hilo\n",
      "City #98: port hardy\n",
      "City #99: kavieng\n",
      "City #100: namibe\n",
      "City #101: gangotri\n",
      "City #102: aitape\n",
      "City #103: mrirt\n",
      "City #104: wucheng\n",
      "City #105: najran\n",
      "City #106: snasa\n",
      "City #107: hithadhoo\n",
      "City #108: bethel\n",
      "City #109: kailua\n",
      "City #110: sao gabriel da cachoeira\n",
      "City #111: mergui\n",
      "City #112: yantal\n",
      "City #113: haren\n",
      "City #114: mtambile\n",
      "City #115: mar del plata\n",
      "City #116: hasaki\n",
      "City #117: san bartolome de tirajana\n",
      "City #118: aviles\n",
      "City #119: cidreira\n",
      "City #120: ayagoz\n",
      "City #121: pontivy\n",
      "City #122: windhoek\n",
      "City #123: ulagan\n",
      "City #124: vardo\n",
      "City #125: lolua\n",
      "City #126: broome\n",
      "City #127: qaanaaq\n",
      "City #128: flin flon\n",
      "City #129: christchurch\n",
      "City #130: barawe\n",
      "City #131: benemerito de las americas\n",
      "City #132: skeldon\n",
      "City #133: tuatapere\n",
      "City #134: morada nova\n",
      "City #135: mendoza\n",
      "City #136: salalah\n",
      "City #137: temaraia\n",
      "City #138: new norfolk\n",
      "City #139: greenwood\n",
      "City #140: tual\n",
      "City #141: namatanai\n",
      "City #142: beringovskiy\n",
      "City #143: daru\n",
      "City #144: wajid\n",
      "City #145: koumac\n",
      "City #146: dunedin\n",
      "City #147: fortuna\n",
      "City #148: kilindoni\n",
      "City #149: bambous virieux\n",
      "City #150: mehriz\n",
      "City #151: bambanglipuro\n",
      "City #152: coihaique\n",
      "City #153: fort saint john\n",
      "City #154: brattvag\n",
      "City #155: geraldton\n",
      "City #156: lima\n",
      "City #157: beidao\n",
      "City #158: yueyang\n",
      "City #159: coquimbo\n",
      "City #160: kapaa\n",
      "City #161: severo-kurilsk\n",
      "City #162: sarkand\n",
      "City #163: sokoto\n",
      "City #164: buarcos\n",
      "City #165: arraial do cabo\n",
      "City #166: saint-philippe\n",
      "City #167: esperance\n",
      "City #168: taoudenni\n",
      "City #169: dehloran\n",
      "City #170: labuhan\n",
      "City #171: ribeira grande\n",
      "City #172: stykkisholmur\n",
      "City #173: bull savanna\n",
      "City #174: neiafu\n",
      "City #175: hofn\n",
      "City #176: jalu\n",
      "City #177: podgornoye\n",
      "City #178: zhuhai\n",
      "City #179: caravelas\n",
      "City #180: srednekolymsk\n",
      "City #181: sitka\n",
      "City #182: kodiak\n",
      "City #183: korla\n",
      "City #184: kaeo\n",
      "City #185: palmer\n",
      "City #186: dingle\n",
      "City #187: innisfail\n",
      "City #188: cabra\n",
      "City #189: sakakah\n",
      "City #190: lavrentiya\n",
      "City #191: belaya gora\n",
      "City #192: nanortalik\n",
      "City #193: marsa matruh\n",
      "City #194: norman wells\n",
      "City #195: bontang\n",
      "City #196: attawapiskat\n",
      "City #197: san quintin\n",
      "City #198: belen\n",
      "City #199: jinji\n",
      "City #200: de-kastri\n",
      "City #201: kerzhenets\n",
      "City #202: grindavik\n",
      "City #203: matay\n",
      "City #204: carnarvon\n",
      "City #205: punta alta\n",
      "City #206: takoradi\n",
      "City #207: kuzedeyevo\n",
      "City #208: te anau\n",
      "City #209: alofi\n",
      "City #210: pokhara\n",
      "City #211: moranbah\n",
      "City #212: canton\n",
      "City #213: longyearbyen\n",
      "City #214: waddan\n",
      "City #215: ambodifototra\n",
      "City #216: tsihombe\n",
      "City #217: youghal\n",
      "City #218: port augusta\n",
      "City #219: karasjok\n",
      "City #220: illoqqortoormiut\n",
      "City #221: olinda\n",
      "City #222: harfleur\n",
      "City #223: seoul\n",
      "City #224: egvekinot\n",
      "City #225: merritt island\n",
      "City #226: agirish\n",
      "City #227: nikolskoye\n",
      "City #228: prince rupert\n",
      "City #229: hokitika\n",
      "City #230: golyshmanovo\n",
      "City #231: faanui\n",
      "City #232: calvinia\n",
      "City #233: acarau\n",
      "City #234: amderma\n",
      "City #235: kenmare\n",
      "City #236: tiksi\n",
      "City #237: ylivieska\n",
      "City #238: banda aceh\n",
      "City #239: morondava\n",
      "City #240: arman\n",
      "City #241: gazanjyk\n",
      "City #242: mwinilunga\n",
      "City #243: nabinagar\n",
      "City #244: omboue\n",
      "City #245: barentsburg\n",
      "City #246: lata\n",
      "City #247: kapit\n",
      "City #248: kahului\n",
      "City #249: bathsheba\n",
      "City #250: miraflores\n",
      "City #251: tommot\n",
      "City #252: oktyabrskiy\n",
      "City #253: arnprior\n",
      "City #254: adrar\n",
      "City #255: limbazi\n",
      "City #256: mahebourg\n",
      "City #257: ijaki\n",
      "City #258: serowe\n",
      "City #259: tevaitoa\n",
      "City #260: kangaatsiaq\n",
      "City #261: butaritari\n",
      "City #262: dikson\n",
      "City #263: solnechnyy\n",
      "City #264: bilibino\n",
      "City #265: vostok\n",
      "City #266: ugoofaaru\n",
      "City #267: jasper\n",
      "City #268: torbay\n",
      "City #269: leshukonskoye\n",
      "City #270: lagos\n",
      "City #271: anadyr\n",
      "City #272: sturgeon falls\n",
      "City #273: assiniboia\n",
      "City #274: berlevag\n",
      "City #275: portland\n",
      "City #276: leopoldina\n",
      "City #277: sao filipe\n",
      "City #278: methoni\n",
      "City #279: grand river south east\n",
      "City #280: pacific grove\n",
      "City #281: karaul\n",
      "City #282: mareeba\n",
      "City #283: kaitangata\n",
      "City #284: goure\n",
      "City #285: thinadhoo\n",
      "City #286: bokspits\n",
      "City #287: puliyur\n",
      "City #288: morro bay\n",
      "City #289: havre-saint-pierre\n",
      "City #290: chalus\n",
      "City #291: nome\n",
      "City #292: goderich\n",
      "City #293: upernavik\n",
      "City #294: cabo san lucas\n",
      "City #295: fairbanks\n",
      "City #296: mehamn\n",
      "City #297: macenta\n",
      "City #298: corpus christi\n",
      "City #299: saleaula\n",
      "City #300: jumla\n",
      "City #301: moses lake\n",
      "City #302: nogales\n",
      "City #303: ixtapa\n",
      "City #304: san lazaro\n",
      "City #305: los llanos de aridane\n",
      "City #306: ostersund\n",
      "City #307: huanren\n",
      "City #308: dibaya\n",
      "City #309: chokurdakh\n",
      "City #310: swan hill\n",
      "City #311: pisco\n",
      "City #312: puerto carreno\n",
      "City #313: sabaudia\n",
      "City #314: saskylakh\n",
      "City #315: kendari\n",
      "City #316: nizhneyansk\n",
      "City #317: anaconda\n",
      "City #318: praia da vitoria\n",
      "City #319: olden\n",
      "City #320: saint george\n",
      "City #321: kamenka\n",
      "City #322: kyren\n",
      "City #323: mount isa\n",
      "City #324: lyngseidet\n",
      "City #325: port hawkesbury\n",
      "City #326: pevek\n",
      "City #327: guatire\n",
      "City #328: batagay-alyta\n",
      "City #329: sampit\n",
      "City #330: mormugao\n",
      "City #331: alexandria\n",
      "City #332: koroni\n",
      "City #333: ondorhaan\n",
      "City #334: margate\n",
      "City #335: lyuban\n",
      "City #336: znamenskoye\n",
      "City #337: samarai\n",
      "City #338: klyuchi\n",
      "City #339: paamiut\n",
      "City #340: iqaluit\n",
      "City #341: izvestkovyy\n",
      "City #342: san jeronimo\n",
      "City #343: laguna\n",
      "City #344: itarema\n",
      "City #345: luangwa\n",
      "City #346: evensk\n",
      "City #347: loviisa\n",
      "City #348: castro\n",
      "City #349: wanning\n",
      "City #350: tahta\n",
      "City #351: requena\n",
      "City #352: nouadhibou\n",
      "City #353: victoria\n",
      "City #354: buala\n",
      "City #355: garissa\n",
      "City #356: cockburn harbour\n",
      "City #357: lumsden\n",
      "City #358: hamilton\n",
      "City #359: sioux lookout\n",
      "City #360: chakrata\n",
      "City #361: deputatskiy\n",
      "City #362: edd\n",
      "City #363: poum\n",
      "City #364: lukovetskiy\n",
      "City #365: mandalgovi\n",
      "City #366: airai\n",
      "City #367: velingara\n",
      "City #368: aporawan\n",
      "City #369: salta\n",
      "City #370: codrington\n",
      "City #371: zharkent\n",
      "City #372: klaksvik\n",
      "City #373: moree\n",
      "City #374: okhotsk\n",
      "City #375: svetlogorsk\n",
      "City #376: salisbury\n",
      "City #377: vanderhoof\n",
      "City #378: rengo\n",
      "City #379: bytca\n",
      "City #380: kiruna\n",
      "City #381: am timan\n",
      "City #382: praia\n",
      "City #383: rajauri\n",
      "City #384: luena\n",
      "City #385: hualmay\n",
      "City #386: krasnyy kut\n",
      "City #387: birin\n",
      "City #388: gold coast\n",
      "City #389: sainte-anne-des-monts\n",
      "City #390: tumannyy\n",
      "City #391: lasa\n",
      "City #392: ishigaki\n",
      "City #393: muzhi\n",
      "City #394: chegdomyn\n",
      "City #395: kirakira\n",
      "City #396: ialibu\n",
      "City #397: aksu\n",
      "City #398: rabat\n",
      "City #399: san cristobal\n",
      "City #400: kuusamo\n",
      "City #401: rudbar\n",
      "City #402: salinopolis\n",
      "City #403: kudat\n",
      "City #404: veraval\n",
      "City #405: sandovo\n",
      "City #406: madanapalle\n",
      "City #407: cam ranh\n",
      "City #408: tura\n",
      "City #409: kasulu\n",
      "City #410: huarmey\n",
      "City #411: wuwei\n",
      "City #412: erzincan\n",
      "City #413: magadan\n",
      "City #414: corinto\n",
      "City #415: sola\n",
      "City #416: anshun\n",
      "City #417: araripe\n",
      "City #418: sawtell\n",
      "City #419: la paz\n",
      "City #420: henties bay\n",
      "City #421: yulara\n",
      "City #422: gizo\n",
      "City #423: rawson\n",
      "City #424: bridlington\n",
      "City #425: bilma\n",
      "City #426: kiunga\n",
      "City #427: mbacke\n",
      "City #428: aalen\n",
      "City #429: saquena\n",
      "City #430: atar\n",
      "City #431: aklavik\n",
      "City #432: locri\n",
      "City #433: sorong\n",
      "City #434: maniitsoq\n",
      "City #435: sentyabrskiy\n",
      "City #436: celestun\n",
      "City #437: cayenne\n",
      "City #438: verkhnevilyuysk\n",
      "City #439: baruun-urt\n",
      "City #440: adoni\n",
      "City #441: comodoro rivadavia\n",
      "City #442: elizabeth city\n",
      "City #443: inirida\n",
      "City #444: floro\n",
      "City #445: taree\n",
      "City #446: mersing\n",
      "City #447: boshnyakovo\n",
      "City #448: nobres\n",
      "City #449: yatou\n",
      "City #450: constitucion\n",
      "City #451: napier\n",
      "City #452: luebo\n",
      "City #453: swiecie\n",
      "City #454: manggar\n",
      "City #455: mahanoro\n",
      "City #456: maceio\n",
      "City #457: asayita\n",
      "City #458: bosaso\n",
      "City #459: udachnyy\n",
      "City #460: cartagena del chaira\n",
      "City #461: shatsk\n",
      "City #462: joensuu\n",
      "City #463: svetlyy\n",
      "City #464: yar-sale\n",
      "City #465: loncoche\n",
      "City #466: isabela\n",
      "City #467: ciudad bolivar\n",
      "City #468: kiama\n",
      "City #469: kurumkan\n",
      "City #470: kismayo\n",
      "City #471: taltal\n",
      "City #472: winneba\n",
      "City #473: inhambane\n",
      "City #474: piacabucu\n",
      "City #475: esfahan\n",
      "City #476: marilia\n",
      "City #477: cherskiy\n",
      "City #478: suao\n",
      "City #479: road town\n",
      "City #480: coulihaut\n",
      "City #481: gornyy\n",
      "City #482: saint-joseph\n",
      "City #483: mopipi\n",
      "City #484: balkanabat\n",
      "City #485: gaspe\n",
      "City #486: touros\n",
      "City #487: kosh-agach\n",
      "City #488: presque isle\n",
      "City #489: alta floresta\n",
      "City #490: narsaq\n",
      "City #491: usinsk\n",
      "City #492: bubaque\n",
      "City #493: barsovo\n",
      "City #494: ketchikan\n",
      "City #495: scarborough\n",
      "City #496: labutta\n",
      "City #497: mackay\n",
      "City #498: keetmanshoop\n",
      "City #499: zyryanka\n",
      "City #500: muros\n",
      "City #501: black river\n",
      "City #502: dukat\n",
      "City #503: satao\n",
      "City #504: champerico\n",
      "City #505: ilulissat\n",
      "City #506: san patricio\n",
      "City #507: dauphin\n",
      "City #508: troitskoye\n",
      "City #509: urucara\n",
      "City #510: rio gallegos\n",
      "City #511: limon\n",
      "City #512: mitsamiouli\n",
      "City #513: puerto gaitan\n",
      "City #514: gayny\n",
      "City #515: ilembula\n",
      "City #516: dire dawa\n",
      "City #517: ondjiva\n",
      "City #518: la ronge\n",
      "City #519: jining\n",
      "City #520: aksarka\n",
      "City #521: homer\n",
      "City #522: lorengau\n",
      "City #523: narrabri\n",
      "City #524: meyungs\n",
      "City #525: bantacan\n",
      "City #526: lensk\n",
      "City #527: kupang\n",
      "City #528: wuchang\n",
      "City #529: basco\n",
      "City #530: alice springs\n",
      "City #531: gilgit\n",
      "City #532: mananara\n",
      "City #533: kuala terengganu\n",
      "City #534: abha\n",
      "City #535: abu samrah\n",
      "City #536: rawannawi\n",
      "City #537: roseburg\n",
      "City #538: port blair\n",
      "City #539: esmeraldas\n",
      "City #540: la asuncion\n",
      "City #541: mangan\n",
      "City #542: jaciara\n",
      "City #543: silver city\n",
      "City #544: cabuyaro\n",
      "City #545: sao miguel do araguaia\n",
      "City #546: axim\n",
      "City #547: ola\n",
      "City #548: coahuayana\n",
      "City #549: hobyo\n",
      "City #550: hosakote\n",
      "City #551: mantua\n",
      "City #552: adet\n",
      "City #553: pangnirtung\n",
      "City #554: shingu\n",
      "City #555: luwuk\n",
      "City #556: acapulco\n",
      "City #557: lamar\n",
      "City #558: flinders\n",
      "City #559: pilao arcado\n",
      "City #560: bonavista\n",
      "City #561: mpophomeni\n",
      "City #562: omsukchan\n",
      "City #563: richards bay\n",
      "City #564: sur\n",
      "City #565: talnakh\n",
      "City #566: nguiu\n",
      "City #567: sorvag\n",
      "City #568: tefe\n",
      "City #569: george\n",
      "City #570: luderitz\n",
      "City #571: rundu\n",
      "City #572: necochea\n",
      "City #573: jacareacanga\n",
      "City #574: sao joao da barra\n",
      "City #575: isangel\n",
      "City #576: tecoanapa\n",
      "City #577: mount gambier\n",
      "City #578: phan thiet\n",
      "City #579: buqayq\n",
      "City #580: muravlenko\n",
      "City #581: dhidhdhoo\n",
      "City #582: houma\n",
      "City #583: okoneshnikovo\n",
      "City #584: viligili\n",
      "City #585: leh\n",
      "City #586: chabahar\n",
      "City #587: lampazos de naranjo\n",
      "City #588: ixtacuixtla\n",
      "City #589: valparaiso\n",
      "City #590: lircay\n",
      "City #591: bolshoy uluy\n",
      "City #592: biltine\n",
      "City #593: kirksville\n",
      "City #594: castro marim\n",
      "City #595: rognan\n",
      "City #596: ilhabela\n",
      "City #597: chimbote\n",
      "City #598: lebanon\n",
      "City #599: erzin\n",
      "City #600: krasnogorodsk\n",
      "City #601: sibolga\n",
      "City #602: formoso do araguaia\n",
      "City #603: waipawa\n",
      "City #604: mokhsogollokh\n",
      "City #605: mocambique\n",
      "City #606: lithgow\n",
      "City #607: dawei\n",
      "City #608: mountain home\n",
      "City #609: qixia\n",
      "City #610: auch\n",
      "City #611: umzimvubu\n",
      "City #612: aykhal\n",
      "City #613: newnan\n",
      "City #614: vilyuysk\n",
      "City #615: mount hagen\n",
      "City #616: cockburn town\n",
      "City #617: tarakan\n",
      "City #618: onega\n",
      "City #619: kieta\n",
      "City #620: tigil\n",
      "City #621: tabiauea\n",
      "City #622: nabire\n",
      "City #623: bella union\n",
      "City #624: freeport\n",
      "City #625: le pradet\n",
      "City #626: blagoyevo\n",
      "City #627: kropotkin\n",
      "City #628: buta\n",
      "City #629: brae\n",
      "City #630: utiel\n",
      "City #631: bowen\n",
      "City #632: skibbereen\n",
      "City #633: san ignacio\n",
      "City #634: phan rang\n",
      "City #635: shimanovsk\n",
      "City #636: da nang\n",
      "City #637: saint-augustin\n",
      "City #638: sangar\n",
      "City #639: radovitskiy\n",
      "City #640: boden\n",
      "City #641: maryville\n",
      "City #642: buin\n",
      "City #643: ostrovnoy\n"
     ]
    }
   ],
   "source": [
    "call_count = 0\n",
    "city_count = 1\n",
    "names = []\n",
    "lats = []\n",
    "lons = []\n",
    "max_temps = []\n",
    "humidities = []\n",
    "clouds = []\n",
    "wind_speeds = []\n",
    "countries = []\n",
    "dates = []\n",
    "\n",
    "for city in cities:\n",
    "    base_url = f'http://api.openweathermap.org/data/2.5/weather?q={city}&appid={weather_api_key}&units=imperial'\n",
    "    response = requests.get(base_url).json()\n",
    "\n",
    "    try:\n",
    "        names.append(response['name'])\n",
    "        lats.append(response['coord']['lat'])\n",
    "        lons.append(response['coord']['lon'])\n",
    "        max_temps.append(response['main']['temp_max'])\n",
    "        humidities.append(response['main']['humidity'])\n",
    "        clouds.append(response['clouds']['all'])\n",
    "        wind_speeds.append(response['wind']['speed'])\n",
    "        countries.append(response['sys']['country'])\n",
    "        dates.append(response['dt'])\n",
    "    except:\n",
    "        names.append('N/A')\n",
    "        lats.append('N/A')\n",
    "        lons.append('N/A')\n",
    "        max_temps.append('N/A')\n",
    "        humidities.append('N/A')\n",
    "        clouds.append('N/A')\n",
    "        wind_speeds.append('N/A')\n",
    "        countries.append('N/A')\n",
    "        dates.append('N/A')\n",
    "\n",
    "    print(f'City #{city_count}: {city}')\n",
    "\n",
    "    call_count+=1\n",
    "    city_count+=1\n",
    "\n",
    "    if call_count > 49:\n",
    "        time.sleep(60)\n",
    "        call_count = 0\n",
    "    "
   ]
  },
  {
   "cell_type": "markdown",
   "metadata": {},
   "source": [
    "### Convert Raw Data to DataFrame\n",
    "* Export the city data into a .csv.\n",
    "* Display the DataFrame"
   ]
  },
  {
   "cell_type": "code",
   "execution_count": 6,
   "metadata": {},
   "outputs": [
    {
     "data": {
      "text/html": [
       "<div>\n",
       "<style scoped>\n",
       "    .dataframe tbody tr th:only-of-type {\n",
       "        vertical-align: middle;\n",
       "    }\n",
       "\n",
       "    .dataframe tbody tr th {\n",
       "        vertical-align: top;\n",
       "    }\n",
       "\n",
       "    .dataframe thead th {\n",
       "        text-align: right;\n",
       "    }\n",
       "</style>\n",
       "<table border=\"1\" class=\"dataframe\">\n",
       "  <thead>\n",
       "    <tr style=\"text-align: right;\">\n",
       "      <th></th>\n",
       "      <th>City</th>\n",
       "      <th>Lat</th>\n",
       "      <th>Lng</th>\n",
       "      <th>Max Temp</th>\n",
       "      <th>Humidity</th>\n",
       "      <th>Cloudiness</th>\n",
       "      <th>Wind Speed</th>\n",
       "      <th>Country</th>\n",
       "      <th>Date</th>\n",
       "    </tr>\n",
       "  </thead>\n",
       "  <tbody>\n",
       "    <tr>\n",
       "      <th>0</th>\n",
       "      <td>Rikitea</td>\n",
       "      <td>-23.1203</td>\n",
       "      <td>-134.969</td>\n",
       "      <td>76.73</td>\n",
       "      <td>78</td>\n",
       "      <td>30</td>\n",
       "      <td>10.29</td>\n",
       "      <td>PF</td>\n",
       "      <td>1645381136</td>\n",
       "    </tr>\n",
       "    <tr>\n",
       "      <th>1</th>\n",
       "      <td>Chui</td>\n",
       "      <td>-33.6971</td>\n",
       "      <td>-53.4616</td>\n",
       "      <td>82.02</td>\n",
       "      <td>58</td>\n",
       "      <td>77</td>\n",
       "      <td>14.67</td>\n",
       "      <td>UY</td>\n",
       "      <td>1645381197</td>\n",
       "    </tr>\n",
       "    <tr>\n",
       "      <th>2</th>\n",
       "      <td>Hermanus</td>\n",
       "      <td>-34.4187</td>\n",
       "      <td>19.2345</td>\n",
       "      <td>65.8</td>\n",
       "      <td>85</td>\n",
       "      <td>0</td>\n",
       "      <td>9.01</td>\n",
       "      <td>ZA</td>\n",
       "      <td>1645381091</td>\n",
       "    </tr>\n",
       "    <tr>\n",
       "      <th>3</th>\n",
       "      <td>Saldanha</td>\n",
       "      <td>-33.0117</td>\n",
       "      <td>17.9442</td>\n",
       "      <td>63.86</td>\n",
       "      <td>88</td>\n",
       "      <td>9</td>\n",
       "      <td>9.51</td>\n",
       "      <td>ZA</td>\n",
       "      <td>1645381198</td>\n",
       "    </tr>\n",
       "    <tr>\n",
       "      <th>4</th>\n",
       "      <td>Traiguén</td>\n",
       "      <td>-38.25</td>\n",
       "      <td>-72.6833</td>\n",
       "      <td>73.09</td>\n",
       "      <td>30</td>\n",
       "      <td>23</td>\n",
       "      <td>7.7</td>\n",
       "      <td>CL</td>\n",
       "      <td>1645381198</td>\n",
       "    </tr>\n",
       "    <tr>\n",
       "      <th>...</th>\n",
       "      <td>...</td>\n",
       "      <td>...</td>\n",
       "      <td>...</td>\n",
       "      <td>...</td>\n",
       "      <td>...</td>\n",
       "      <td>...</td>\n",
       "      <td>...</td>\n",
       "      <td>...</td>\n",
       "      <td>...</td>\n",
       "    </tr>\n",
       "    <tr>\n",
       "      <th>638</th>\n",
       "      <td>Radovitskiy</td>\n",
       "      <td>55.1282</td>\n",
       "      <td>39.7956</td>\n",
       "      <td>27.36</td>\n",
       "      <td>92</td>\n",
       "      <td>53</td>\n",
       "      <td>8.72</td>\n",
       "      <td>RU</td>\n",
       "      <td>1645383207</td>\n",
       "    </tr>\n",
       "    <tr>\n",
       "      <th>639</th>\n",
       "      <td>Boden</td>\n",
       "      <td>65.8252</td>\n",
       "      <td>21.6886</td>\n",
       "      <td>14</td>\n",
       "      <td>98</td>\n",
       "      <td>100</td>\n",
       "      <td>3.76</td>\n",
       "      <td>SE</td>\n",
       "      <td>1645383207</td>\n",
       "    </tr>\n",
       "    <tr>\n",
       "      <th>640</th>\n",
       "      <td>Maryville</td>\n",
       "      <td>35.7565</td>\n",
       "      <td>-83.9705</td>\n",
       "      <td>60.15</td>\n",
       "      <td>31</td>\n",
       "      <td>5</td>\n",
       "      <td>5.99</td>\n",
       "      <td>US</td>\n",
       "      <td>1645383207</td>\n",
       "    </tr>\n",
       "    <tr>\n",
       "      <th>641</th>\n",
       "      <td>Buin</td>\n",
       "      <td>-33.7333</td>\n",
       "      <td>-70.75</td>\n",
       "      <td>84.06</td>\n",
       "      <td>19</td>\n",
       "      <td>100</td>\n",
       "      <td>10.25</td>\n",
       "      <td>CL</td>\n",
       "      <td>1645383208</td>\n",
       "    </tr>\n",
       "    <tr>\n",
       "      <th>642</th>\n",
       "      <td>Ostrovnoy</td>\n",
       "      <td>68.0531</td>\n",
       "      <td>39.5131</td>\n",
       "      <td>18.27</td>\n",
       "      <td>82</td>\n",
       "      <td>84</td>\n",
       "      <td>9.75</td>\n",
       "      <td>RU</td>\n",
       "      <td>1645383208</td>\n",
       "    </tr>\n",
       "  </tbody>\n",
       "</table>\n",
       "<p>643 rows × 9 columns</p>\n",
       "</div>"
      ],
      "text/plain": [
       "            City      Lat      Lng Max Temp Humidity Cloudiness Wind Speed  \\\n",
       "0        Rikitea -23.1203 -134.969    76.73       78         30      10.29   \n",
       "1           Chui -33.6971 -53.4616    82.02       58         77      14.67   \n",
       "2       Hermanus -34.4187  19.2345     65.8       85          0       9.01   \n",
       "3       Saldanha -33.0117  17.9442    63.86       88          9       9.51   \n",
       "4       Traiguén   -38.25 -72.6833    73.09       30         23        7.7   \n",
       "..           ...      ...      ...      ...      ...        ...        ...   \n",
       "638  Radovitskiy  55.1282  39.7956    27.36       92         53       8.72   \n",
       "639        Boden  65.8252  21.6886       14       98        100       3.76   \n",
       "640    Maryville  35.7565 -83.9705    60.15       31          5       5.99   \n",
       "641         Buin -33.7333   -70.75    84.06       19        100      10.25   \n",
       "642    Ostrovnoy  68.0531  39.5131    18.27       82         84       9.75   \n",
       "\n",
       "    Country        Date  \n",
       "0        PF  1645381136  \n",
       "1        UY  1645381197  \n",
       "2        ZA  1645381091  \n",
       "3        ZA  1645381198  \n",
       "4        CL  1645381198  \n",
       "..      ...         ...  \n",
       "638      RU  1645383207  \n",
       "639      SE  1645383207  \n",
       "640      US  1645383207  \n",
       "641      CL  1645383208  \n",
       "642      RU  1645383208  \n",
       "\n",
       "[643 rows x 9 columns]"
      ]
     },
     "execution_count": 6,
     "metadata": {},
     "output_type": "execute_result"
    }
   ],
   "source": [
    "weather_df = pd.DataFrame({\n",
    "    'City':names,\n",
    "    'Lat':lats,\n",
    "    'Lng':lons,\n",
    "    'Max Temp':max_temps,\n",
    "    'Humidity':humidities,\n",
    "    'Cloudiness':clouds,\n",
    "    'Wind Speed':wind_speeds,\n",
    "    'Country':countries,\n",
    "    'Date':dates\n",
    "})\n",
    "\n",
    "weather_df"
   ]
  },
  {
   "cell_type": "code",
   "execution_count": 7,
   "metadata": {},
   "outputs": [],
   "source": [
    "bad_data = weather_df['City']=='N/A'\n",
    "bad_index = weather_df.loc[bad_data].index\n",
    "cleaned_df = weather_df.drop(bad_index)\n",
    "\n",
    "#len(weather_df.loc[bad_data]['City'])"
   ]
  },
  {
   "cell_type": "code",
   "execution_count": 42,
   "metadata": {},
   "outputs": [
    {
     "data": {
      "text/html": [
       "<div>\n",
       "<style scoped>\n",
       "    .dataframe tbody tr th:only-of-type {\n",
       "        vertical-align: middle;\n",
       "    }\n",
       "\n",
       "    .dataframe tbody tr th {\n",
       "        vertical-align: top;\n",
       "    }\n",
       "\n",
       "    .dataframe thead th {\n",
       "        text-align: right;\n",
       "    }\n",
       "</style>\n",
       "<table border=\"1\" class=\"dataframe\">\n",
       "  <thead>\n",
       "    <tr style=\"text-align: right;\">\n",
       "      <th></th>\n",
       "      <th>City</th>\n",
       "      <th>Lat</th>\n",
       "      <th>Lng</th>\n",
       "      <th>Max Temp</th>\n",
       "      <th>Humidity</th>\n",
       "      <th>Cloudiness</th>\n",
       "      <th>Wind Speed</th>\n",
       "      <th>Country</th>\n",
       "      <th>Date</th>\n",
       "    </tr>\n",
       "  </thead>\n",
       "  <tbody>\n",
       "    <tr>\n",
       "      <th>0</th>\n",
       "      <td>Rikitea</td>\n",
       "      <td>-23.1203</td>\n",
       "      <td>-134.969</td>\n",
       "      <td>76.73</td>\n",
       "      <td>78</td>\n",
       "      <td>30</td>\n",
       "      <td>10.29</td>\n",
       "      <td>PF</td>\n",
       "      <td>1645381136</td>\n",
       "    </tr>\n",
       "    <tr>\n",
       "      <th>1</th>\n",
       "      <td>Chui</td>\n",
       "      <td>-33.6971</td>\n",
       "      <td>-53.4616</td>\n",
       "      <td>82.02</td>\n",
       "      <td>58</td>\n",
       "      <td>77</td>\n",
       "      <td>14.67</td>\n",
       "      <td>UY</td>\n",
       "      <td>1645381197</td>\n",
       "    </tr>\n",
       "    <tr>\n",
       "      <th>2</th>\n",
       "      <td>Hermanus</td>\n",
       "      <td>-34.4187</td>\n",
       "      <td>19.2345</td>\n",
       "      <td>65.8</td>\n",
       "      <td>85</td>\n",
       "      <td>0</td>\n",
       "      <td>9.01</td>\n",
       "      <td>ZA</td>\n",
       "      <td>1645381091</td>\n",
       "    </tr>\n",
       "    <tr>\n",
       "      <th>3</th>\n",
       "      <td>Saldanha</td>\n",
       "      <td>-33.0117</td>\n",
       "      <td>17.9442</td>\n",
       "      <td>63.86</td>\n",
       "      <td>88</td>\n",
       "      <td>9</td>\n",
       "      <td>9.51</td>\n",
       "      <td>ZA</td>\n",
       "      <td>1645381198</td>\n",
       "    </tr>\n",
       "    <tr>\n",
       "      <th>4</th>\n",
       "      <td>Traiguén</td>\n",
       "      <td>-38.25</td>\n",
       "      <td>-72.6833</td>\n",
       "      <td>73.09</td>\n",
       "      <td>30</td>\n",
       "      <td>23</td>\n",
       "      <td>7.7</td>\n",
       "      <td>CL</td>\n",
       "      <td>1645381198</td>\n",
       "    </tr>\n",
       "    <tr>\n",
       "      <th>...</th>\n",
       "      <td>...</td>\n",
       "      <td>...</td>\n",
       "      <td>...</td>\n",
       "      <td>...</td>\n",
       "      <td>...</td>\n",
       "      <td>...</td>\n",
       "      <td>...</td>\n",
       "      <td>...</td>\n",
       "      <td>...</td>\n",
       "    </tr>\n",
       "    <tr>\n",
       "      <th>638</th>\n",
       "      <td>Radovitskiy</td>\n",
       "      <td>55.1282</td>\n",
       "      <td>39.7956</td>\n",
       "      <td>27.36</td>\n",
       "      <td>92</td>\n",
       "      <td>53</td>\n",
       "      <td>8.72</td>\n",
       "      <td>RU</td>\n",
       "      <td>1645383207</td>\n",
       "    </tr>\n",
       "    <tr>\n",
       "      <th>639</th>\n",
       "      <td>Boden</td>\n",
       "      <td>65.8252</td>\n",
       "      <td>21.6886</td>\n",
       "      <td>14</td>\n",
       "      <td>98</td>\n",
       "      <td>100</td>\n",
       "      <td>3.76</td>\n",
       "      <td>SE</td>\n",
       "      <td>1645383207</td>\n",
       "    </tr>\n",
       "    <tr>\n",
       "      <th>640</th>\n",
       "      <td>Maryville</td>\n",
       "      <td>35.7565</td>\n",
       "      <td>-83.9705</td>\n",
       "      <td>60.15</td>\n",
       "      <td>31</td>\n",
       "      <td>5</td>\n",
       "      <td>5.99</td>\n",
       "      <td>US</td>\n",
       "      <td>1645383207</td>\n",
       "    </tr>\n",
       "    <tr>\n",
       "      <th>641</th>\n",
       "      <td>Buin</td>\n",
       "      <td>-33.7333</td>\n",
       "      <td>-70.75</td>\n",
       "      <td>84.06</td>\n",
       "      <td>19</td>\n",
       "      <td>100</td>\n",
       "      <td>10.25</td>\n",
       "      <td>CL</td>\n",
       "      <td>1645383208</td>\n",
       "    </tr>\n",
       "    <tr>\n",
       "      <th>642</th>\n",
       "      <td>Ostrovnoy</td>\n",
       "      <td>68.0531</td>\n",
       "      <td>39.5131</td>\n",
       "      <td>18.27</td>\n",
       "      <td>82</td>\n",
       "      <td>84</td>\n",
       "      <td>9.75</td>\n",
       "      <td>RU</td>\n",
       "      <td>1645383208</td>\n",
       "    </tr>\n",
       "  </tbody>\n",
       "</table>\n",
       "<p>589 rows × 9 columns</p>\n",
       "</div>"
      ],
      "text/plain": [
       "            City      Lat      Lng Max Temp Humidity Cloudiness Wind Speed  \\\n",
       "0        Rikitea -23.1203 -134.969    76.73       78         30      10.29   \n",
       "1           Chui -33.6971 -53.4616    82.02       58         77      14.67   \n",
       "2       Hermanus -34.4187  19.2345     65.8       85          0       9.01   \n",
       "3       Saldanha -33.0117  17.9442    63.86       88          9       9.51   \n",
       "4       Traiguén   -38.25 -72.6833    73.09       30         23        7.7   \n",
       "..           ...      ...      ...      ...      ...        ...        ...   \n",
       "638  Radovitskiy  55.1282  39.7956    27.36       92         53       8.72   \n",
       "639        Boden  65.8252  21.6886       14       98        100       3.76   \n",
       "640    Maryville  35.7565 -83.9705    60.15       31          5       5.99   \n",
       "641         Buin -33.7333   -70.75    84.06       19        100      10.25   \n",
       "642    Ostrovnoy  68.0531  39.5131    18.27       82         84       9.75   \n",
       "\n",
       "    Country        Date  \n",
       "0        PF  1645381136  \n",
       "1        UY  1645381197  \n",
       "2        ZA  1645381091  \n",
       "3        ZA  1645381198  \n",
       "4        CL  1645381198  \n",
       "..      ...         ...  \n",
       "638      RU  1645383207  \n",
       "639      SE  1645383207  \n",
       "640      US  1645383207  \n",
       "641      CL  1645383208  \n",
       "642      RU  1645383208  \n",
       "\n",
       "[589 rows x 9 columns]"
      ]
     },
     "execution_count": 42,
     "metadata": {},
     "output_type": "execute_result"
    }
   ],
   "source": [
    "cleaned_df.to_csv('weather_output/weather.csv')\n",
    "\n",
    "cleaned_df\n"
   ]
  },
  {
   "cell_type": "markdown",
   "metadata": {},
   "source": [
    "## Inspect the data and remove the cities where the humidity > 100%.\n",
    "----\n",
    "Skip this step if there are no cities that have humidity > 100%. "
   ]
  },
  {
   "cell_type": "code",
   "execution_count": 9,
   "metadata": {},
   "outputs": [
    {
     "data": {
      "text/html": [
       "<div>\n",
       "<style scoped>\n",
       "    .dataframe tbody tr th:only-of-type {\n",
       "        vertical-align: middle;\n",
       "    }\n",
       "\n",
       "    .dataframe tbody tr th {\n",
       "        vertical-align: top;\n",
       "    }\n",
       "\n",
       "    .dataframe thead th {\n",
       "        text-align: right;\n",
       "    }\n",
       "</style>\n",
       "<table border=\"1\" class=\"dataframe\">\n",
       "  <thead>\n",
       "    <tr style=\"text-align: right;\">\n",
       "      <th></th>\n",
       "      <th>City</th>\n",
       "      <th>Lat</th>\n",
       "      <th>Lng</th>\n",
       "      <th>Max Temp</th>\n",
       "      <th>Humidity</th>\n",
       "      <th>Cloudiness</th>\n",
       "      <th>Wind Speed</th>\n",
       "      <th>Country</th>\n",
       "      <th>Date</th>\n",
       "    </tr>\n",
       "  </thead>\n",
       "  <tbody>\n",
       "  </tbody>\n",
       "</table>\n",
       "</div>"
      ],
      "text/plain": [
       "Empty DataFrame\n",
       "Columns: [City, Lat, Lng, Max Temp, Humidity, Cloudiness, Wind Speed, Country, Date]\n",
       "Index: []"
      ]
     },
     "execution_count": 9,
     "metadata": {},
     "output_type": "execute_result"
    }
   ],
   "source": [
    "cleaned_df.loc[cleaned_df['Humidity'] > 100]"
   ]
  },
  {
   "cell_type": "code",
   "execution_count": 10,
   "metadata": {},
   "outputs": [],
   "source": [
    "#  Get the indices of cities that have humidity over 100%.\n"
   ]
  },
  {
   "cell_type": "code",
   "execution_count": 11,
   "metadata": {},
   "outputs": [],
   "source": [
    "# Make a new DataFrame equal to the city data to drop all humidity outliers by index.\n",
    "# Passing \"inplace=False\" will make a copy of the city_data DataFrame, which we call \"clean_city_data\".\n"
   ]
  },
  {
   "cell_type": "code",
   "execution_count": null,
   "metadata": {},
   "outputs": [],
   "source": [
    "\n"
   ]
  },
  {
   "cell_type": "markdown",
   "metadata": {},
   "source": [
    "## Plotting the Data\n",
    "* Use proper labeling of the plots using plot titles (including date of analysis) and axes labels.\n",
    "* Save the plotted figures as .pngs."
   ]
  },
  {
   "cell_type": "markdown",
   "metadata": {},
   "source": [
    "## Latitude vs. Temperature Plot"
   ]
  },
  {
   "cell_type": "code",
   "execution_count": 79,
   "metadata": {
    "scrolled": true
   },
   "outputs": [
    {
     "data": {
      "image/png": "[encoded data removed]",
      "text/plain": [
       "<Figure size 432x288 with 1 Axes>"
      ]
     },
     "metadata": {
      "needs_background": "light"
     },
     "output_type": "display_data"
    }
   ],
   "source": [
    "x_axis = cleaned_df['Lat']\n",
    "y_axis = cleaned_df['Max Temp']\n",
    "\n",
    "plt.scatter(x_axis,y_axis)\n",
    "plt.xlabel('Latitude')\n",
    "plt.ylabel('Temperature (F)')\n",
    "plt.title('Temperature(F) vs Latitude 2/20/2022')\n",
    "plt.grid()\n",
    "plt.savefig('weather_output/temp_lat.png')"
   ]
  },
  {
   "cell_type": "markdown",
   "metadata": {},
   "source": [
    "## Latitude vs. Humidity Plot"
   ]
  },
  {
   "cell_type": "code",
   "execution_count": 78,
   "metadata": {},
   "outputs": [
    {
     "data": {
      "image/png": "[encoded data removed]",
      "text/plain": [
       "<Figure size 432x288 with 1 Axes>"
      ]
     },
     "metadata": {
      "needs_background": "light"
     },
     "output_type": "display_data"
    }
   ],
   "source": [
    "x_axis = cleaned_df['Lat']\n",
    "y_axis = cleaned_df['Humidity']\n",
    "\n",
    "plt.scatter(x_axis,y_axis)\n",
    "plt.xlabel('Latitude')\n",
    "plt.ylabel('Humidity(%)')\n",
    "plt.title('Humidity(%) vs Latitude 2/20/2022')\n",
    "plt.grid()\n",
    "plt.savefig('weather_output/Humidity_lat.png')"
   ]
  },
  {
   "cell_type": "markdown",
   "metadata": {},
   "source": [
    "## Latitude vs. Cloudiness Plot"
   ]
  },
  {
   "cell_type": "code",
   "execution_count": 80,
   "metadata": {},
   "outputs": [
    {
     "data": {
      "image/png": "[encoded data removed]",
      "text/plain": [
       "<Figure size 432x288 with 1 Axes>"
      ]
     },
     "metadata": {
      "needs_background": "light"
     },
     "output_type": "display_data"
    }
   ],
   "source": [
    "x_axis = cleaned_df['Lat']\n",
    "y_axis = cleaned_df['Cloudiness']\n",
    "\n",
    "plt.scatter(x_axis,y_axis)\n",
    "plt.xlabel('Latitude')\n",
    "plt.ylabel('Cloudiness(%)')\n",
    "plt.title('Cloudiness(%) vs Latitude 2/20/2022')\n",
    "plt.grid()\n",
    "plt.savefig('weather_output/cloudiness_lat.png')"
   ]
  },
  {
   "cell_type": "markdown",
   "metadata": {},
   "source": [
    "## Latitude vs. Wind Speed Plot"
   ]
  },
  {
   "cell_type": "code",
   "execution_count": 81,
   "metadata": {},
   "outputs": [
    {
     "data": {
      "image/png": "[encoded data removed]",
      "text/plain": [
       "<Figure size 432x288 with 1 Axes>"
      ]
     },
     "metadata": {
      "needs_background": "light"
     },
     "output_type": "display_data"
    }
   ],
   "source": [
    "x_axis = cleaned_df['Lat']\n",
    "y_axis = cleaned_df['Wind Speed']\n",
    "\n",
    "plt.scatter(x_axis,y_axis)\n",
    "plt.xlabel('Latitude')\n",
    "plt.ylabel('Wind Speed(mph')\n",
    "plt.title('Wind Speed(mph) vs Latitude 2/20/2022')\n",
    "plt.grid()\n",
    "plt.savefig('weather_output/wind_speed_lat.png')\n"
   ]
  },
  {
   "cell_type": "markdown",
   "metadata": {},
   "source": [
    "## Linear Regression"
   ]
  },
  {
   "cell_type": "code",
   "execution_count": 91,
   "metadata": {},
   "outputs": [],
   "source": [
    "north_df = cleaned_df.loc[cleaned_df['Lat'] >= 0]\n",
    "south_df = cleaned_df.loc[cleaned_df['Lat'] < 0]"
   ]
  },
  {
   "cell_type": "markdown",
   "metadata": {},
   "source": [
    "####  Northern Hemisphere - Max Temp vs. Latitude Linear Regression"
   ]
  },
  {
   "cell_type": "code",
   "execution_count": 92,
   "metadata": {},
   "outputs": [
    {
     "name": "stdout",
     "output_type": "stream",
     "text": [
      "The r-squared is: 0.6956990754674807\n"
     ]
    },
    {
     "data": {
      "image/png": "[encoded data removed]",
      "text/plain": [
       "<Figure size 432x288 with 1 Axes>"
      ]
     },
     "metadata": {
      "needs_background": "light"
     },
     "output_type": "display_data"
    }
   ],
   "source": [
    "x_values = np.float64(north_df['Lat'])\n",
    "y_values = np.float64(north_df['Max Temp'])\n",
    "(slope, intercept, rvalue, pvalue, stderr) = linregress(x_values, y_values)\n",
    "regress_values = x_values * slope + intercept\n",
    "line_eq = \"y = \" + str(round(slope,2)) + \"x + \" + str(round(intercept,2))\n",
    "plt.scatter(x_values,y_values)\n",
    "plt.plot(x_values,regress_values,\"r-\")\n",
    "plt.annotate(line_eq,(6,10),fontsize=15,color=\"red\")\n",
    "plt.xlabel('Latitude')\n",
    "plt.ylabel('Temperature')\n",
    "print(f\"The r-squared is: {rvalue**2}\")\n",
    "plt.title('Northern Temp vs Lat Lin Regress 2/20/2022')\n",
    "plt.grid()\n",
    "plt.savefig('weather_output/north_temp_lat.png')\n",
    "plt.show()"
   ]
  },
  {
   "cell_type": "markdown",
   "metadata": {},
   "source": [
    "####  Southern Hemisphere - Max Temp vs. Latitude Linear Regression"
   ]
  },
  {
   "cell_type": "code",
   "execution_count": 93,
   "metadata": {},
   "outputs": [
    {
     "name": "stdout",
     "output_type": "stream",
     "text": [
      "The r-squared is: 0.3604795278142137\n"
     ]
    },
    {
     "data": {
      "image/png": "[encoded data removed]",
      "text/plain": [
       "<Figure size 432x288 with 1 Axes>"
      ]
     },
     "metadata": {
      "needs_background": "light"
     },
     "output_type": "display_data"
    }
   ],
   "source": [
    "x_values = np.float64(south_df['Lat'])\n",
    "y_values = np.float64(south_df['Max Temp'])\n",
    "(slope, intercept, rvalue, pvalue, stderr) = linregress(x_values, y_values)\n",
    "regress_values = x_values * slope + intercept\n",
    "line_eq = \"y = \" + str(round(slope,2)) + \"x + \" + str(round(intercept,2))\n",
    "plt.scatter(x_values,y_values)\n",
    "plt.plot(x_values,regress_values,\"r-\")\n",
    "plt.annotate(line_eq,(6,10),fontsize=15,color=\"red\")\n",
    "plt.xlabel('Latitude')\n",
    "plt.ylabel('Temperature')\n",
    "print(f\"The r-squared is: {rvalue**2}\")\n",
    "plt.title('Southern Temp vs Lat Lin Regress 2/20/2022')\n",
    "plt.grid()\n",
    "plt.savefig('weather_output/south_temp_lat.png')\n",
    "plt.show()\n"
   ]
  },
  {
   "cell_type": "code",
   "execution_count": 94,
   "metadata": {},
   "outputs": [],
   "source": [
    "# TEMPERATURE VS LATITUDE\n",
    "# In the above plots we can see that in the norther hemisphere, the temperature decreases as latitude increases.\n",
    "# The inverse is true in the southern hemisphere. This seems to imply that temperatures are highest when the latitude\n",
    "# is zero, or at latitudes along Earth's equator."
   ]
  },
  {
   "cell_type": "markdown",
   "metadata": {},
   "source": [
    "####  Northern Hemisphere - Humidity (%) vs. Latitude Linear Regression"
   ]
  },
  {
   "cell_type": "code",
   "execution_count": 95,
   "metadata": {},
   "outputs": [
    {
     "name": "stdout",
     "output_type": "stream",
     "text": [
      "The r-squared is: 0.20891535981244125\n"
     ]
    },
    {
     "data": {
      "image/png": "[encoded data removed]",
      "text/plain": [
       "<Figure size 432x288 with 1 Axes>"
      ]
     },
     "metadata": {
      "needs_background": "light"
     },
     "output_type": "display_data"
    }
   ],
   "source": [
    "x_values = np.float64(north_df['Lat'])\n",
    "y_values = np.float64(north_df['Humidity'])\n",
    "(slope, intercept, rvalue, pvalue, stderr) = linregress(x_values, y_values)\n",
    "regress_values = x_values * slope + intercept\n",
    "line_eq = \"y = \" + str(round(slope,2)) + \"x + \" + str(round(intercept,2))\n",
    "plt.scatter(x_values,y_values)\n",
    "plt.plot(x_values,regress_values,\"r-\")\n",
    "plt.annotate(line_eq,(6,10),fontsize=15,color=\"red\")\n",
    "plt.xlabel('Latitude')\n",
    "plt.ylabel('Temperature')\n",
    "print(f\"The r-squared is: {rvalue**2}\")\n",
    "plt.title('Northern Humidity vs Lat Lin Regress 2/20/2022')\n",
    "plt.grid()\n",
    "plt.savefig('weather_output/north_humidity_lat.png')\n",
    "plt.show()"
   ]
  },
  {
   "cell_type": "markdown",
   "metadata": {},
   "source": [
    "####  Southern Hemisphere - Humidity (%) vs. Latitude Linear Regression"
   ]
  },
  {
   "cell_type": "code",
   "execution_count": 96,
   "metadata": {},
   "outputs": [
    {
     "name": "stdout",
     "output_type": "stream",
     "text": [
      "The r-squared is: 0.032042113331807676\n"
     ]
    },
    {
     "data": {
      "image/png": "[encoded data removed]",
      "text/plain": [
       "<Figure size 432x288 with 1 Axes>"
      ]
     },
     "metadata": {
      "needs_background": "light"
     },
     "output_type": "display_data"
    }
   ],
   "source": [
    "x_values = np.float64(south_df['Lat'])\n",
    "y_values = np.float64(south_df['Humidity'])\n",
    "(slope, intercept, rvalue, pvalue, stderr) = linregress(x_values, y_values)\n",
    "regress_values = x_values * slope + intercept\n",
    "line_eq = \"y = \" + str(round(slope,2)) + \"x + \" + str(round(intercept,2))\n",
    "plt.scatter(x_values,y_values)\n",
    "plt.plot(x_values,regress_values,\"r-\")\n",
    "plt.annotate(line_eq,(6,10),fontsize=15,color=\"red\")\n",
    "plt.xlabel('Latitude')\n",
    "plt.ylabel('Temperature')\n",
    "print(f\"The r-squared is: {rvalue**2}\")\n",
    "plt.title('Southern Humidity vs Lat Lin Regress 2/20/2022')\n",
    "plt.grid()\n",
    "plt.savefig('weather_output/south_humidity_lat.png')\n",
    "plt.show()"
   ]
  },
  {
   "cell_type": "code",
   "execution_count": 97,
   "metadata": {},
   "outputs": [],
   "source": [
    "#HUMIDITY VS LATITUDE\n",
    "#The above plots show that humidity seems to increase as latitude increases in both the northern and southern hemisphere."
   ]
  },
  {
   "cell_type": "markdown",
   "metadata": {},
   "source": [
    "####  Northern Hemisphere - Cloudiness (%) vs. Latitude Linear Regression"
   ]
  },
  {
   "cell_type": "code",
   "execution_count": 98,
   "metadata": {},
   "outputs": [
    {
     "name": "stdout",
     "output_type": "stream",
     "text": [
      "The r-squared is: 0.08817268336780469\n"
     ]
    },
    {
     "data": {
      "image/png": "[encoded data removed]",
      "text/plain": [
       "<Figure size 432x288 with 1 Axes>"
      ]
     },
     "metadata": {
      "needs_background": "light"
     },
     "output_type": "display_data"
    }
   ],
   "source": [
    "x_values = np.float64(north_df['Lat'])\n",
    "y_values = np.float64(north_df['Cloudiness'])\n",
    "(slope, intercept, rvalue, pvalue, stderr) = linregress(x_values, y_values)\n",
    "regress_values = x_values * slope + intercept\n",
    "line_eq = \"y = \" + str(round(slope,2)) + \"x + \" + str(round(intercept,2))\n",
    "plt.scatter(x_values,y_values)\n",
    "plt.plot(x_values,regress_values,\"r-\")\n",
    "plt.annotate(line_eq,(6,10),fontsize=15,color=\"red\")\n",
    "plt.xlabel('Latitude')\n",
    "plt.ylabel('Temperature')\n",
    "print(f\"The r-squared is: {rvalue**2}\")\n",
    "plt.title('Northern Cloudiness vs Lat Lin Regress 2/20/2022')\n",
    "plt.grid()\n",
    "plt.savefig('weather_output/north_cloudiness_lat.png')\n",
    "plt.show()"
   ]
  },
  {
   "cell_type": "markdown",
   "metadata": {},
   "source": [
    "####  Southern Hemisphere - Cloudiness (%) vs. Latitude Linear Regression"
   ]
  },
  {
   "cell_type": "code",
   "execution_count": 99,
   "metadata": {},
   "outputs": [
    {
     "name": "stdout",
     "output_type": "stream",
     "text": [
      "The r-squared is: 0.11541381442683174\n"
     ]
    },
    {
     "data": {
      "image/png": "[encoded data removed]",
      "text/plain": [
       "<Figure size 432x288 with 1 Axes>"
      ]
     },
     "metadata": {
      "needs_background": "light"
     },
     "output_type": "display_data"
    }
   ],
   "source": [
    "x_values = np.float64(south_df['Lat'])\n",
    "y_values = np.float64(south_df['Cloudiness'])\n",
    "(slope, intercept, rvalue, pvalue, stderr) = linregress(x_values, y_values)\n",
    "regress_values = x_values * slope + intercept\n",
    "line_eq = \"y = \" + str(round(slope,2)) + \"x + \" + str(round(intercept,2))\n",
    "plt.scatter(x_values,y_values)\n",
    "plt.plot(x_values,regress_values,\"r-\")\n",
    "plt.annotate(line_eq,(6,10),fontsize=15,color=\"red\")\n",
    "plt.xlabel('Latitude')\n",
    "plt.ylabel('Temperature')\n",
    "print(f\"The r-squared is: {rvalue**2}\")\n",
    "plt.title('Southern Cloudiness vs Lat Lin Regress 2/20/2022')\n",
    "plt.grid()\n",
    "plt.savefig('weather_output/south_cloudiness_lat.png')\n",
    "plt.show()"
   ]
  },
  {
   "cell_type": "code",
   "execution_count": 100,
   "metadata": {},
   "outputs": [],
   "source": [
    "#CLOUDINESS VS LATITUDE\n",
    "#The above plots show that as latitudes increase, cloudiness increases as well even.\n",
    "#This, in addition to the previous plots seems to imply that further north you go, the higher the average cloudiness and humidity\n",
    "#It seems like these two plots could indicate a connection with precipitation."
   ]
  },
  {
   "cell_type": "markdown",
   "metadata": {},
   "source": [
    "####  Northern Hemisphere - Wind Speed (mph) vs. Latitude Linear Regression"
   ]
  },
  {
   "cell_type": "code",
   "execution_count": 101,
   "metadata": {},
   "outputs": [
    {
     "name": "stdout",
     "output_type": "stream",
     "text": [
      "The r-squared is: 0.004856921973841342\n"
     ]
    },
    {
     "data": {
      "image/png": "[encoded data removed]",
      "text/plain": [
       "<Figure size 432x288 with 1 Axes>"
      ]
     },
     "metadata": {
      "needs_background": "light"
     },
     "output_type": "display_data"
    }
   ],
   "source": [
    "x_values = np.float64(north_df['Lat'])\n",
    "y_values = np.float64(north_df['Wind Speed'])\n",
    "(slope, intercept, rvalue, pvalue, stderr) = linregress(x_values, y_values)\n",
    "regress_values = x_values * slope + intercept\n",
    "line_eq = \"y = \" + str(round(slope,2)) + \"x + \" + str(round(intercept,2))\n",
    "plt.scatter(x_values,y_values)\n",
    "plt.plot(x_values,regress_values,\"r-\")\n",
    "plt.annotate(line_eq,(6,10),fontsize=15,color=\"red\")\n",
    "plt.xlabel('Latitude')\n",
    "plt.ylabel('Temperature')\n",
    "print(f\"The r-squared is: {rvalue**2}\")\n",
    "plt.title('Northern Wind Speed vs Lat Lin Regress 2/20/2022')\n",
    "plt.grid()\n",
    "plt.savefig('weather_output/north_wind_speed_lat.png')\n",
    "plt.show()"
   ]
  },
  {
   "cell_type": "markdown",
   "metadata": {},
   "source": [
    "####  Southern Hemisphere - Wind Speed (mph) vs. Latitude Linear Regression"
   ]
  },
  {
   "cell_type": "code",
   "execution_count": 102,
   "metadata": {},
   "outputs": [
    {
     "name": "stdout",
     "output_type": "stream",
     "text": [
      "The r-squared is: 0.018279562942901523\n"
     ]
    },
    {
     "data": {
      "image/png": "[encoded data removed]",
      "text/plain": [
       "<Figure size 432x288 with 1 Axes>"
      ]
     },
     "metadata": {
      "needs_background": "light"
     },
     "output_type": "display_data"
    }
   ],
   "source": [
    "x_values = np.float64(south_df['Lat'])\n",
    "y_values = np.float64(south_df['Wind Speed'])\n",
    "(slope, intercept, rvalue, pvalue, stderr) = linregress(x_values, y_values)\n",
    "regress_values = x_values * slope + intercept\n",
    "line_eq = \"y = \" + str(round(slope,2)) + \"x + \" + str(round(intercept,2))\n",
    "plt.scatter(x_values,y_values)\n",
    "plt.plot(x_values,regress_values,\"r-\")\n",
    "plt.annotate(line_eq,(6,10),fontsize=15,color=\"red\")\n",
    "plt.xlabel('Latitude')\n",
    "plt.ylabel('Temperature')\n",
    "print(f\"The r-squared is: {rvalue**2}\")\n",
    "plt.title('Southern Wind Speed vs Lat Lin Regress 2/20/2022')\n",
    "plt.grid()\n",
    "plt.savefig('weather_output/south_wind_speed_lat.png')\n",
    "plt.show()"
   ]
  },
  {
   "cell_type": "code",
   "execution_count": 103,
   "metadata": {},
   "outputs": [],
   "source": [
    "#WIND SPEED VS LATITUDE\n",
    "#The above plots show that as the latitude approaches zero, the average winds speeds decrease."
   ]
  }
 ],
 "metadata": {
  "anaconda-cloud": {},
  "interpreter": {
   "hash": "eed8a5eb32a2e3fd876b5eaeba5ebdac59b18c58b7506f3a88190dbee8b88e98"
  },
  "kernel_info": {
   "name": "python3"
  },
  "kernelspec": {
   "display_name": "mypydev",
   "language": "python",
   "name": "python3"
  },
  "language_info": {
   "codemirror_mode": {
    "name": "ipython",
    "version": 3
   },
   "file_extension": ".py",
   "mimetype": "text/x-python",
   "name": "python",
   "nbconvert_exporter": "python",
   "pygments_lexer": "ipython3",
   "version": "3.6.10"
  },
  "latex_envs": {
   "LaTeX_envs_menu_present": true,
   "autoclose": false,
   "autocomplete": true,
   "bibliofile": "biblio.bib",
   "cite_by": "apalike",
   "current_citInitial": 1,
   "eqLabelWithNumbers": true,
   "eqNumInitial": 1,
   "hotkeys": {
    "equation": "Ctrl-E",
    "itemize": "Ctrl-I"
   },
   "labels_anchors": false,
   "latex_user_defs": false,
   "report_style_numbering": false,
   "user_envs_cfg": false
  },
  "nteract": {
   "version": "0.12.3"
  }
 },
 "nbformat": 4,
 "nbformat_minor": 2
}
